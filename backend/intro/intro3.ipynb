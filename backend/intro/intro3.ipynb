{
 "cells": [
  {
   "cell_type": "code",
   "execution_count": null,
   "metadata": {},
   "outputs": [],
   "source": [
    "import os\n",
    "\n",
    "import numpy as np\n",
    "import pandas as pd\n",
    "import phitter\n",
    "from llama_index.core.agent.react import ReActAgent\n",
    "from llama_index.core.tools import FunctionTool\n",
    "from llama_index.llms.openai import OpenAI\n",
    "import dotenv"
   ]
  },
  {
   "cell_type": "code",
   "execution_count": null,
   "metadata": {},
   "outputs": [],
   "source": [
    "dotenv.load_dotenv(dotenv.find_dotenv())"
   ]
  },
  {
   "cell_type": "code",
   "execution_count": null,
   "metadata": {},
   "outputs": [],
   "source": [
    "os.environ[\"OPENAI_API_KEY\"] = os.getenv(\"OPENAI_API_KEY\")"
   ]
  },
  {
   "cell_type": "code",
   "execution_count": null,
   "metadata": {},
   "outputs": [],
   "source": [
    "df = pd.read_csv(\"https://gist.githubusercontent.com/phitterio/6e1cdb92a5f518c7459484c619185fc5/raw/4072c5233d03204d8999943398b23c2393bcd637/iris.csv\")\n",
    "df.head()"
   ]
  },
  {
   "cell_type": "code",
   "execution_count": null,
   "metadata": {},
   "outputs": [],
   "source": [
    "phitter_cont: phitter.PHITTER = None"
   ]
  },
  {
   "cell_type": "code",
   "execution_count": null,
   "metadata": {},
   "outputs": [],
   "source": [
    "def get_column_data(column_name: str) -> list[float]:\n",
    "    \"\"\"\n",
    "    Gets the data from a specific column of the global DataFrame.\n",
    "    \"\"\"\n",
    "    return df[column_name].tolist()\n",
    "\n",
    "\n",
    "def fit_distributions_to_data(data: list[float], num_bins=None) -> float:\n",
    "    \"\"\"\n",
    "    Fit the best probability distribution to a dataset\n",
    "    \"\"\"\n",
    "    global phitter_cont\n",
    "    phitter_cont = phitter.PHITTER(data=data)\n",
    "    phitter_cont.fit(n_workers=2)\n",
    "    id_distribution = phitter_cont.best_distribution[\"id\"]\n",
    "    parameters = phitter_cont.best_distribution[\"parameters\"]\n",
    "    parameters_str = \", \".join([f\"{k}: {v:.4g}\" for k, v in parameters.items()])\n",
    "    return f\"The best distribution is {id_distribution} with parameters {parameters_str}\"\n",
    "\n",
    "def plot_histogram():\n",
    "    \"\"\"\n",
    "    Fit the best probability distribution to a dataset\n",
    "    \"\"\"\n",
    "    global phitter_cont\n",
    "    phitter_cont.plot_histogram()\n",
    "    return \"showing histogram ...\""
   ]
  },
  {
   "cell_type": "code",
   "execution_count": null,
   "metadata": {},
   "outputs": [],
   "source": [
    "get_column_tool = FunctionTool.from_defaults(\n",
    "    fn=get_column_data,\n",
    "    name=\"get_column_data\",\n",
    "    description=\"Gets the data from a specific column of the global DataFrame.\",\n",
    ")\n",
    "fit_distribution_tool = FunctionTool.from_defaults(\n",
    "    fn=fit_distributions_to_data,\n",
    "    name=\"fit_distribution\",\n",
    "    description=\"Find the best probability distribution to a dataset and returns the distribution name and parameters.\",\n",
    ")\n",
    "plot_histogram_tool = FunctionTool.from_defaults(\n",
    "    fn=plot_histogram,\n",
    "    name=\"plot_histogram\",\n",
    "    description=\"Plot hitogram to the current phitter process\",\n",
    ")"
   ]
  },
  {
   "cell_type": "code",
   "execution_count": null,
   "metadata": {},
   "outputs": [],
   "source": [
    "llm = OpenAI(model=\"gpt-4o\", temperature=0)"
   ]
  },
  {
   "cell_type": "code",
   "execution_count": null,
   "metadata": {},
   "outputs": [],
   "source": [
    "tools = [get_column_tool, fit_distribution_tool, plot_histogram_tool]\n",
    "agent = ReActAgent.from_tools(tools, llm=llm, verbose=True)"
   ]
  },
  {
   "cell_type": "code",
   "execution_count": null,
   "metadata": {},
   "outputs": [],
   "source": [
    "column_name = \"SepalWidthCm\""
   ]
  },
  {
   "cell_type": "code",
   "execution_count": null,
   "metadata": {},
   "outputs": [],
   "source": [
    "query = f\"Find the best probability distribution to the '{column_name}' column\"\n",
    "response = agent.chat(query)\n",
    "print(response)"
   ]
  },
  {
   "cell_type": "code",
   "execution_count": null,
   "metadata": {},
   "outputs": [],
   "source": [
    "query = f\"Find the best probability distribution to the '{column_name}' column using 14 bins\"\n",
    "response = agent.chat(query)\n",
    "print(response)"
   ]
  },
  {
   "cell_type": "code",
   "execution_count": null,
   "metadata": {},
   "outputs": [],
   "source": [
    "query = \"Plot histogram\"\n",
    "response = agent.chat(query)"
   ]
  },
  {
   "cell_type": "code",
   "execution_count": null,
   "metadata": {},
   "outputs": [],
   "source": []
  }
 ],
 "metadata": {
  "kernelspec": {
   "display_name": "Python 3",
   "language": "python",
   "name": "python3"
  },
  "language_info": {
   "codemirror_mode": {
    "name": "ipython",
    "version": 3
   },
   "file_extension": ".py",
   "mimetype": "text/x-python",
   "name": "python",
   "nbconvert_exporter": "python",
   "pygments_lexer": "ipython3",
   "version": "3.11.9"
  }
 },
 "nbformat": 4,
 "nbformat_minor": 2
}
